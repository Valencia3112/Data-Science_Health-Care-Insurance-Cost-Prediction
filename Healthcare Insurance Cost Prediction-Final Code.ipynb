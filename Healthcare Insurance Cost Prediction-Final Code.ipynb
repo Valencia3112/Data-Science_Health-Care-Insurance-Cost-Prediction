{
 "cells": [
  {
   "cell_type": "markdown",
   "metadata": {},
   "source": [
    "#  Health Insurance Cost Prediction\n",
    "\n",
    "\n",
    "\n",
    "## Nivea Dabre\n"
   ]
  },
  {
   "cell_type": "markdown",
   "metadata": {},
   "source": [
    "\n",
    "### Scope:\n",
    "\n",
    "1.Introduction\n",
    "\n",
    "2.Objective\n",
    "\n",
    "3.Reading the dataset\n",
    "\n",
    "4.Data Cleaning \n",
    "\n",
    "5.Exploratory Data Analysis\n",
    "\n",
    "6.Preliminary Insights\n",
    "\n",
    "7.Statistical/Machine Learning Methods\n",
    "\n",
    " a]Correlation between pairs of features\n",
    " \n",
    " b]Chi-Squared test\n",
    " \n",
    " c]t-test\n",
    " \n",
    " d]Linear Regression\n",
    " \n",
    " e]Multiple Regression\n",
    "\n",
    "8.Interpretation from the Linear Regression and Multiple Regresion Models\n",
    "\n",
    "9.Improvising the Model.\n",
    "\n",
    "10.Prediction of the Target variable using improved multiple regression model.\n",
    "\n",
    "\n",
    "\n"
   ]
  },
  {
   "cell_type": "markdown",
   "metadata": {},
   "source": [
    "### Introduction\n",
    "We will import pandas to read our data from a CSV file and manipulate it for further use. We will also use numpy to convert out data into a format suitable to feed our classification model. We'll use seaborn and matplotlib for visualizations. We will then import Linear Regression algorithm from sklearn. This algorithm will help us build our classification model. Lastly, we will use joblib available in sklearn to save our model for future use."
   ]
  },
  {
   "cell_type": "markdown",
   "metadata": {},
   "source": [
    "### Objective\n",
    "Medical expenses are difficult to estimate because the most costly conditions are rare and seemingly random. Still, some conditions are more prevalent for certain segments of the population. For instance, lung cancer is more likely among smokers than non-smokers, and heart disease may be more likely among the obese.\n",
    "\n",
    "The goal of this project is to use patient data to estimate the average medical care expenses using regression for provided population segments.\n",
    "\n"
   ]
  },
  {
   "cell_type": "code",
   "execution_count": 2,
   "metadata": {},
   "outputs": [],
   "source": [
    "import pandas as pd\n",
    "import numpy as np\n",
    "import seaborn as sns\n",
    "import matplotlib.pyplot as plt\n",
    "%matplotlib inline\n",
    "\n",
    "from sklearn.linear_model import LinearRegression\n",
    "from sklearn.externals import joblib"
   ]
  },
  {
   "cell_type": "markdown",
   "metadata": {},
   "source": [
    "We have our data saved in a CSV file called insurance.csv. We first read our dataset in a pandas dataframe called insuranceDF, and then use the head() function to show the first five records from our dataset."
   ]
  },
  {
   "cell_type": "code",
   "execution_count": 3,
   "metadata": {},
   "outputs": [],
   "source": [
    "insuranceDF = pd.read_csv('C:/Users/admin/Downloads/insurance.csv')"
   ]
  },
  {
   "cell_type": "code",
   "execution_count": 4,
   "metadata": {},
   "outputs": [
    {
     "data": {
      "text/html": [
       "<div>\n",
       "<style scoped>\n",
       "    .dataframe tbody tr th:only-of-type {\n",
       "        vertical-align: middle;\n",
       "    }\n",
       "\n",
       "    .dataframe tbody tr th {\n",
       "        vertical-align: top;\n",
       "    }\n",
       "\n",
       "    .dataframe thead th {\n",
       "        text-align: right;\n",
       "    }\n",
       "</style>\n",
       "<table border=\"1\" class=\"dataframe\">\n",
       "  <thead>\n",
       "    <tr style=\"text-align: right;\">\n",
       "      <th></th>\n",
       "      <th>age</th>\n",
       "      <th>bmi</th>\n",
       "      <th>children</th>\n",
       "      <th>charges</th>\n",
       "    </tr>\n",
       "  </thead>\n",
       "  <tbody>\n",
       "    <tr>\n",
       "      <th>count</th>\n",
       "      <td>1338.000000</td>\n",
       "      <td>1338.000000</td>\n",
       "      <td>1338.000000</td>\n",
       "      <td>1338.000000</td>\n",
       "    </tr>\n",
       "    <tr>\n",
       "      <th>mean</th>\n",
       "      <td>39.207025</td>\n",
       "      <td>30.663397</td>\n",
       "      <td>1.094918</td>\n",
       "      <td>13270.422265</td>\n",
       "    </tr>\n",
       "    <tr>\n",
       "      <th>std</th>\n",
       "      <td>14.049960</td>\n",
       "      <td>6.098187</td>\n",
       "      <td>1.205493</td>\n",
       "      <td>12110.011237</td>\n",
       "    </tr>\n",
       "    <tr>\n",
       "      <th>min</th>\n",
       "      <td>18.000000</td>\n",
       "      <td>15.960000</td>\n",
       "      <td>0.000000</td>\n",
       "      <td>1121.873900</td>\n",
       "    </tr>\n",
       "    <tr>\n",
       "      <th>25%</th>\n",
       "      <td>27.000000</td>\n",
       "      <td>26.296250</td>\n",
       "      <td>0.000000</td>\n",
       "      <td>4740.287150</td>\n",
       "    </tr>\n",
       "    <tr>\n",
       "      <th>50%</th>\n",
       "      <td>39.000000</td>\n",
       "      <td>30.400000</td>\n",
       "      <td>1.000000</td>\n",
       "      <td>9382.033000</td>\n",
       "    </tr>\n",
       "    <tr>\n",
       "      <th>75%</th>\n",
       "      <td>51.000000</td>\n",
       "      <td>34.693750</td>\n",
       "      <td>2.000000</td>\n",
       "      <td>16639.912515</td>\n",
       "    </tr>\n",
       "    <tr>\n",
       "      <th>max</th>\n",
       "      <td>64.000000</td>\n",
       "      <td>53.130000</td>\n",
       "      <td>5.000000</td>\n",
       "      <td>63770.428010</td>\n",
       "    </tr>\n",
       "  </tbody>\n",
       "</table>\n",
       "</div>"
      ],
      "text/plain": [
       "               age          bmi     children       charges\n",
       "count  1338.000000  1338.000000  1338.000000   1338.000000\n",
       "mean     39.207025    30.663397     1.094918  13270.422265\n",
       "std      14.049960     6.098187     1.205493  12110.011237\n",
       "min      18.000000    15.960000     0.000000   1121.873900\n",
       "25%      27.000000    26.296250     0.000000   4740.287150\n",
       "50%      39.000000    30.400000     1.000000   9382.033000\n",
       "75%      51.000000    34.693750     2.000000  16639.912515\n",
       "max      64.000000    53.130000     5.000000  63770.428010"
      ]
     },
     "execution_count": 4,
     "metadata": {},
     "output_type": "execute_result"
    }
   ],
   "source": [
    "insuranceDF.describe()"
   ]
  },
  {
   "cell_type": "code",
   "execution_count": 5,
   "metadata": {},
   "outputs": [
    {
     "name": "stdout",
     "output_type": "stream",
     "text": [
      "   age     sex     bmi  children smoker     region      charges\n",
      "0   19  female  27.900         0    yes  southwest  16884.92400\n",
      "1   18    male  33.770         1     no  southeast   1725.55230\n",
      "2   28    male  33.000         3     no  southeast   4449.46200\n",
      "3   33    male  22.705         0     no  northwest  21984.47061\n",
      "4   32    male  28.880         0     no  northwest   3866.85520\n"
     ]
    }
   ],
   "source": [
    "print(insuranceDF.head())"
   ]
  },
  {
   "cell_type": "markdown",
   "metadata": {},
   "source": [
    "###  The following features are provided\n",
    "1]age : age of policyholder \n",
    "\n",
    "2]sex: gender of policy holder (female=0, male=1) \n",
    "\n",
    "3]bmi: Body mass index, providing an understanding of body, weights that are relatively high or low relative to height, objective index of body weight (kg / m ^ 2) using the ratio of height to weight, ideally 18.5 to 25 steps: average number of walking steps per day\n",
    "\n",
    "4]children: number of children / dependents of policyholder\n",
    "\n",
    "5]smoker: smoking state of policyholder (non-smoke=0;smoker=1) \n",
    "\n",
    "6]region: the residential area of policyholder in the US (northeast=0, northwest=1, southeast=2, southwest=3) charges: individual medical costs billed by health insurance\n",
    "\n",
    "Below we have converted the data of independent variables such as sex,smoker,region in binary format as we will be performing logistisc regression on the same."
   ]
  },
  {
   "cell_type": "markdown",
   "metadata": {},
   "source": [
    "### Data cleaning and Exploratory Data analysis"
   ]
  },
  {
   "cell_type": "code",
   "execution_count": 6,
   "metadata": {},
   "outputs": [
    {
     "name": "stdout",
     "output_type": "stream",
     "text": [
      "   age     sex     bmi  children smoker     region      charges\n",
      "0   19  female  27.900         0    yes  southwest  16884.92400\n",
      "1   18    male  33.770         1     no  southeast   1725.55230\n",
      "2   28    male  33.000         3     no  southeast   4449.46200\n",
      "3   33    male  22.705         0     no  northwest  21984.47061\n",
      "4   32    male  28.880         0     no  northwest   3866.85520\n"
     ]
    }
   ],
   "source": [
    "print(insuranceDF.head())"
   ]
  },
  {
   "cell_type": "code",
   "execution_count": 7,
   "metadata": {},
   "outputs": [
    {
     "data": {
      "text/plain": [
       "age         0\n",
       "sex         0\n",
       "bmi         0\n",
       "children    0\n",
       "smoker      0\n",
       "region      0\n",
       "charges     0\n",
       "dtype: int64"
      ]
     },
     "execution_count": 7,
     "metadata": {},
     "output_type": "execute_result"
    }
   ],
   "source": [
    "insuranceDF.isnull().sum()"
   ]
  },
  {
   "cell_type": "markdown",
   "metadata": {},
   "source": [
    "### Let's also make sure that our data is clean (has no null values, etc)."
   ]
  },
  {
   "cell_type": "code",
   "execution_count": 8,
   "metadata": {},
   "outputs": [
    {
     "name": "stdout",
     "output_type": "stream",
     "text": [
      "<class 'pandas.core.frame.DataFrame'>\n",
      "RangeIndex: 1338 entries, 0 to 1337\n",
      "Data columns (total 7 columns):\n",
      "age         1338 non-null int64\n",
      "sex         1338 non-null object\n",
      "bmi         1338 non-null float64\n",
      "children    1338 non-null int64\n",
      "smoker      1338 non-null object\n",
      "region      1338 non-null object\n",
      "charges     1338 non-null float64\n",
      "dtypes: float64(2), int64(2), object(3)\n",
      "memory usage: 73.2+ KB\n"
     ]
    }
   ],
   "source": [
    "insuranceDF.info()"
   ]
  },
  {
   "cell_type": "markdown",
   "metadata": {},
   "source": [
    "### Exploratory Data Analysis"
   ]
  },
  {
   "cell_type": "code",
   "execution_count": 9,
   "metadata": {
    "scrolled": false
   },
   "outputs": [
    {
     "name": "stdout",
     "output_type": "stream",
     "text": [
      "Exploratory Data Analysis\n"
     ]
    },
    {
     "data": {
      "image/png": "[encoded data removed]",
      "text/plain": [
       "<Figure size 1080x576 with 1 Axes>"
      ]
     },
     "metadata": {
      "needs_background": "light"
     },
     "output_type": "display_data"
    },
    {
     "data": {
      "image/png": "[encoded data removed]",
      "text/plain": [
       "<Figure size 1080x576 with 1 Axes>"
      ]
     },
     "metadata": {
      "needs_background": "light"
     },
     "output_type": "display_data"
    },
    {
     "data": {
      "image/png": "[encoded data removed]",
      "text/plain": [
       "<Figure size 1080x576 with 1 Axes>"
      ]
     },
     "metadata": {
      "needs_background": "light"
     },
     "output_type": "display_data"
    },
    {
     "data": {
      "image/png": "[encoded data removed]",
      "text/plain": [
       "<Figure size 1080x576 with 1 Axes>"
      ]
     },
     "metadata": {
      "needs_background": "light"
     },
     "output_type": "display_data"
    },
    {
     "data": {
      "image/png": "[encoded data removed]",
      "text/plain": [
       "<Figure size 1080x576 with 1 Axes>"
      ]
     },
     "metadata": {
      "needs_background": "light"
     },
     "output_type": "display_data"
    },
    {
     "data": {
      "image/png": "[encoded data removed]",
      "text/plain": [
       "<Figure size 1080x576 with 1 Axes>"
      ]
     },
     "metadata": {
      "needs_background": "light"
     },
     "output_type": "display_data"
    }
   ],
   "source": [
    "insuranceDF['bmi_int'] = insuranceDF['bmi'].apply(lambda x: int(x))\n",
    "variables_1 = ['sex','smoker','region','children',]\n",
    "variables_2 = ['age','bmi_int']\n",
    "# data distribution analysys\n",
    "print('Exploratory Data Analysis')\n",
    "for v in variables_1:\n",
    "    imsuranceDF = insuranceDF.sort_values(by=[v])\n",
    "    insuranceDF[v].value_counts().plot(kind = 'bar')\n",
    "    plt.title(v)\n",
    "    fig=plt.gcf()\n",
    "    fig.set_size_inches(15,8)\n",
    "    plt.show()\n",
    "for v in variables_2:\n",
    "    imsuranceDF = insuranceDF.sort_values(by=[v])\n",
    "    insuranceDF[v].value_counts().plot(kind = 'bar', color='darkred')\n",
    "    plt.title(v)\n",
    "    fig=plt.gcf()\n",
    "    fig.set_size_inches(15,8)\n",
    "    plt.show()"
   ]
  },
  {
   "cell_type": "markdown",
   "metadata": {},
   "source": [
    "\n",
    "\n",
    "###### The data visualization will focus on identifying patterns of key features  which clearly distinguishes a patient’s charges. Some fill identifies if the patient is a smoker.\n",
    "\n"
   ]
  },
  {
   "cell_type": "markdown",
   "metadata": {},
   "source": [
    "### AGE"
   ]
  },
  {
   "cell_type": "code",
   "execution_count": 10,
   "metadata": {
    "scrolled": false
   },
   "outputs": [
    {
     "data": {
      "text/plain": [
       "Text(0.5, 1, 'Plot for Charges & Age')"
      ]
     },
     "execution_count": 10,
     "metadata": {},
     "output_type": "execute_result"
    },
    {
     "data": {
      "image/png": "[encoded data removed]",
      "text/plain": [
       "<Figure size 1080x576 with 1 Axes>"
      ]
     },
     "metadata": {
      "needs_background": "light"
     },
     "output_type": "display_data"
    }
   ],
   "source": [
    "sns.lmplot(x='age', y='charges', hue='smoker',data= insuranceDF,fit_reg=False,palette=\"magma\")\n",
    "fig=plt.gcf()\n",
    "fig.set_size_inches(15,8)\n",
    "plt.title(\"Plot for Charges & Age\", weight='bold')"
   ]
  },
  {
   "cell_type": "markdown",
   "metadata": {},
   "source": [
    "##### Seems like higher charges are associated with smokers of older age. Perhaps the older the smoker gets, the more complicated his health conditions which results in higher charges."
   ]
  },
  {
   "cell_type": "markdown",
   "metadata": {},
   "source": [
    "### BMI"
   ]
  },
  {
   "cell_type": "code",
   "execution_count": 11,
   "metadata": {},
   "outputs": [
    {
     "data": {
      "text/plain": [
       "Text(0.5, 1, 'Plot for Charges & BMI')"
      ]
     },
     "execution_count": 11,
     "metadata": {},
     "output_type": "execute_result"
    },
    {
     "data": {
      "image/png": "[encoded data removed]",
      "text/plain": [
       "<Figure size 1080x576 with 1 Axes>"
      ]
     },
     "metadata": {
      "needs_background": "light"
     },
     "output_type": "display_data"
    }
   ],
   "source": [
    "sns.lmplot(x='bmi', y='charges', hue='smoker',data= insuranceDF,fit_reg=False,palette=\"magma\")\n",
    "fig=plt.gcf()\n",
    "fig.set_size_inches(15,8)\n",
    "plt.title(\"Plot for Charges & BMI\", weight='bold')"
   ]
  },
  {
   "cell_type": "markdown",
   "metadata": {},
   "source": [
    "###### Seems like higher charges are slightly associated with smokers with higher bmi. Perhaps the higher bmi of the smoker, the more prone to deseases which results in higher charges."
   ]
  },
  {
   "cell_type": "markdown",
   "metadata": {},
   "source": [
    "### Region"
   ]
  },
  {
   "cell_type": "code",
   "execution_count": 12,
   "metadata": {
    "scrolled": false
   },
   "outputs": [
    {
     "data": {
      "image/png": "[encoded data removed]",
      "text/plain": [
       "<Figure size 1080x576 with 1 Axes>"
      ]
     },
     "metadata": {
      "needs_background": "light"
     },
     "output_type": "display_data"
    }
   ],
   "source": [
    "sns.boxplot(x = \"region\", y = \"charges\", data = insuranceDF)\n",
    "fig=plt.gcf()\n",
    "fig.set_size_inches(15,8)\n",
    "plt.title(\"Plot for Charges & Region\", weight='bold')\n",
    "plt.show()"
   ]
  },
  {
   "cell_type": "markdown",
   "metadata": {},
   "source": [
    "##### As for region, there is no clear association of charges. Hence, expect low correlation for this feature. Perhaps having high charges is independent of region."
   ]
  },
  {
   "cell_type": "markdown",
   "metadata": {},
   "source": [
    "### Gender"
   ]
  },
  {
   "cell_type": "code",
   "execution_count": 13,
   "metadata": {
    "scrolled": false
   },
   "outputs": [
    {
     "data": {
      "image/png": "[encoded data removed]",
      "text/plain": [
       "<Figure size 1080x576 with 1 Axes>"
      ]
     },
     "metadata": {
      "needs_background": "light"
     },
     "output_type": "display_data"
    }
   ],
   "source": [
    "sns.boxplot(x = \"sex\", y = \"charges\", data = insuranceDF)\n",
    "fig=plt.gcf()\n",
    "fig.set_size_inches(15,8)\n",
    "plt.title(\"Plot for Charges & Sex\", weight='bold')\n",
    "plt.show()"
   ]
  },
  {
   "cell_type": "markdown",
   "metadata": {},
   "source": [
    "###### Higher charges are associated with males. This is because males are more common smokers than females."
   ]
  },
  {
   "cell_type": "markdown",
   "metadata": {},
   "source": [
    "### No. of children"
   ]
  },
  {
   "cell_type": "code",
   "execution_count": 14,
   "metadata": {
    "scrolled": false
   },
   "outputs": [
    {
     "data": {
      "image/png": "[encoded data removed]",
      "text/plain": [
       "<Figure size 1080x576 with 1 Axes>"
      ]
     },
     "metadata": {
      "needs_background": "light"
     },
     "output_type": "display_data"
    }
   ],
   "source": [
    "sns.boxplot(x = \"children\", y = \"charges\", data = insuranceDF)\n",
    "fig=plt.gcf()\n",
    "fig.set_size_inches(15,8)\n",
    "plt.title(\"Plot for Charges & No. of Children\", weight='bold')\n",
    "plt.show()"
   ]
  },
  {
   "cell_type": "markdown",
   "metadata": {},
   "source": [
    "###### As for number of children, there is no clear association of charges. Hence, expect low correlation for this feature. Perhaps having high charges is independent of number of childrens."
   ]
  },
  {
   "cell_type": "markdown",
   "metadata": {},
   "source": [
    "### Preliminary Insights\n",
    "Based on data exploration, the following preliminary insights which leads to higher medical charges is identified:\n",
    "\n",
    "1) older age\n",
    "\n",
    "2) smoker\n",
    "\n",
    "3) male\n",
    "\n",
    "4) higher bmi (distinct after bmi > 30)\n",
    "\n",
    "Also from the correlation segment of the heatmap, age and bmi has the largest correlation to charges."
   ]
  },
  {
   "cell_type": "markdown",
   "metadata": {},
   "source": [
    "## Statistical/Machine Learning Methods:\n"
   ]
  },
  {
   "cell_type": "markdown",
   "metadata": {},
   "source": [
    "### a] Correlation between pairs of features.\n",
    "\n",
    " We have found the  correlation of every pair of features (and the outcome variable), and visualize the correlations using a heatmap."
   ]
  },
  {
   "cell_type": "code",
   "execution_count": 15,
   "metadata": {},
   "outputs": [
    {
     "name": "stdout",
     "output_type": "stream",
     "text": [
      "               age       bmi  children   charges   bmi_int\n",
      "age       1.000000  0.109272  0.042469  0.299008  0.108437\n",
      "bmi       0.109272  1.000000  0.012759  0.198341  0.998883\n",
      "children  0.042469  0.012759  1.000000  0.067998  0.011097\n",
      "charges   0.299008  0.198341  0.067998  1.000000  0.196188\n",
      "bmi_int   0.108437  0.998883  0.011097  0.196188  1.000000\n"
     ]
    }
   ],
   "source": [
    "insuranceCor=insuranceDF.corr()\n",
    "print(insuranceCor)"
   ]
  },
  {
   "cell_type": "code",
   "execution_count": 16,
   "metadata": {},
   "outputs": [
    {
     "data": {
      "image/png": "[encoded data removed]",
      "text/plain": [
       "<Figure size 1080x576 with 2 Axes>"
      ]
     },
     "metadata": {
      "needs_background": "light"
     },
     "output_type": "display_data"
    }
   ],
   "source": [
    "cat=insuranceDF.select_dtypes(include=\"object\").columns\n",
    "num=insuranceDF.select_dtypes(exclude=\"object\").columns\n",
    "sns.heatmap(insuranceCor, \n",
    "        xticklabels=insuranceCor.columns,\n",
    "        yticklabels=insuranceCor.columns,annot=True,cbar=True)\n",
    "fig=plt.gcf()\n",
    "fig.set_size_inches(15,8)\n",
    "plt.show()"
   ]
  },
  {
   "cell_type": "markdown",
   "metadata": {},
   "source": [
    "#### In the above heatmap, brighter colors indicate more correlation.\n",
    "\n",
    "#### Also a positive correlation can be seen between bmi-charges and age-charges."
   ]
  },
  {
   "cell_type": "markdown",
   "metadata": {},
   "source": [
    "### b] Chi Squared test\n",
    "\n",
    "The Chi Square statistic is commonly used for testing relationships between categorical variables.  The null hypothesis of the Chi-Square test is that no relationship exists on the categorical variables in the population; they are independent.\n",
    "\n",
    "Here we are performing Chi Squared test for categorical variables smoker and sex to test if they are independent."
   ]
  },
  {
   "cell_type": "markdown",
   "metadata": {},
   "source": [
    "\n",
    "### With Chi-Squared test let us check if they are statiscally significant or not."
   ]
  },
  {
   "cell_type": "code",
   "execution_count": 19,
   "metadata": {},
   "outputs": [
    {
     "ename": "NameError",
     "evalue": "name 'df_bis' is not defined",
     "output_type": "error",
     "traceback": [
      "\u001b[1;31m---------------------------------------------------------------------------\u001b[0m",
      "\u001b[1;31mNameError\u001b[0m                                 Traceback (most recent call last)",
      "\u001b[1;32m<ipython-input-19-5114aaedb416>\u001b[0m in \u001b[0;36m<module>\u001b[1;34m\u001b[0m\n\u001b[0;32m      1\u001b[0m \u001b[1;31m#Generating Contigency Table for smoker and sex.\u001b[0m\u001b[1;33m\u001b[0m\u001b[1;33m\u001b[0m\u001b[1;33m\u001b[0m\u001b[0m\n\u001b[1;32m----> 2\u001b[1;33m \u001b[0mtab1\u001b[0m\u001b[1;33m=\u001b[0m\u001b[0mpd\u001b[0m\u001b[1;33m.\u001b[0m\u001b[0mcrosstab\u001b[0m\u001b[1;33m(\u001b[0m\u001b[0mdf_bis\u001b[0m\u001b[1;33m[\u001b[0m\u001b[1;34m'smoker'\u001b[0m\u001b[1;33m]\u001b[0m\u001b[1;33m,\u001b[0m \u001b[0mdf_bis\u001b[0m\u001b[1;33m[\u001b[0m\u001b[1;34m'sex'\u001b[0m\u001b[1;33m]\u001b[0m\u001b[1;33m)\u001b[0m\u001b[1;33m\u001b[0m\u001b[1;33m\u001b[0m\u001b[0m\n\u001b[0m\u001b[0;32m      3\u001b[0m \u001b[0mprint\u001b[0m\u001b[1;33m(\u001b[0m\u001b[0mtab1\u001b[0m\u001b[1;33m)\u001b[0m\u001b[1;33m\u001b[0m\u001b[1;33m\u001b[0m\u001b[0m\n",
      "\u001b[1;31mNameError\u001b[0m: name 'df_bis' is not defined"
     ]
    }
   ],
   "source": [
    "#Generating Contigency Table for smoker and sex.\n",
    "tab1=pd.crosstab(df_bis['smoker'], df_bis['sex'])\n",
    "print(tab1)\n"
   ]
  },
  {
   "cell_type": "code",
   "execution_count": 18,
   "metadata": {},
   "outputs": [
    {
     "ename": "NameError",
     "evalue": "name 'tab1' is not defined",
     "output_type": "error",
     "traceback": [
      "\u001b[1;31m---------------------------------------------------------------------------\u001b[0m",
      "\u001b[1;31mNameError\u001b[0m                                 Traceback (most recent call last)",
      "\u001b[1;32m<ipython-input-18-e004494aa90a>\u001b[0m in \u001b[0;36m<module>\u001b[1;34m\u001b[0m\n\u001b[0;32m      3\u001b[0m \u001b[1;31m#st.chi2_contingency(_)\u001b[0m\u001b[1;33m\u001b[0m\u001b[1;33m\u001b[0m\u001b[1;33m\u001b[0m\u001b[0m\n\u001b[0;32m      4\u001b[0m \u001b[1;33m\u001b[0m\u001b[0m\n\u001b[1;32m----> 5\u001b[1;33m \u001b[0mstat\u001b[0m\u001b[1;33m,\u001b[0m \u001b[0mp\u001b[0m\u001b[1;33m,\u001b[0m \u001b[0mdof\u001b[0m\u001b[1;33m,\u001b[0m \u001b[0mexpected\u001b[0m \u001b[1;33m=\u001b[0m \u001b[0mst\u001b[0m\u001b[1;33m.\u001b[0m\u001b[0mchi2_contingency\u001b[0m\u001b[1;33m(\u001b[0m\u001b[0mtab1\u001b[0m\u001b[1;33m)\u001b[0m\u001b[1;33m\u001b[0m\u001b[1;33m\u001b[0m\u001b[0m\n\u001b[0m\u001b[0;32m      6\u001b[0m \u001b[0mprint\u001b[0m\u001b[1;33m(\u001b[0m\u001b[1;34m'dof=%f'\u001b[0m \u001b[1;33m%\u001b[0m \u001b[0mdof\u001b[0m\u001b[1;33m)\u001b[0m\u001b[1;33m\u001b[0m\u001b[1;33m\u001b[0m\u001b[0m\n\u001b[0;32m      7\u001b[0m \u001b[0mprint\u001b[0m\u001b[1;33m(\u001b[0m\u001b[1;34m'pvalue=%f'\u001b[0m \u001b[1;33m%\u001b[0m \u001b[0mp\u001b[0m\u001b[1;33m)\u001b[0m\u001b[1;33m\u001b[0m\u001b[1;33m\u001b[0m\u001b[0m\n",
      "\u001b[1;31mNameError\u001b[0m: name 'tab1' is not defined"
     ]
    }
   ],
   "source": [
    "#Implementation of Chi -Squared test which is a part of scipy.stats package\n",
    "import scipy.stats as st\n",
    "#st.chi2_contingency(_)\n",
    "\n",
    "stat, p, dof, expected = st.chi2_contingency(tab1)\n",
    "print('dof=%f' % dof)\n",
    "print('pvalue=%f' % p)\n",
    "print('stats=%f' % stat)\n",
    "print(expected)"
   ]
  },
  {
   "cell_type": "markdown",
   "metadata": {},
   "source": [
    "As per above test, P value is very small(0.006548). Hence, we reject the null hypothesis that smoker and sex are independent.\n",
    "This can also be crossed checked with our data exploratory analysis which says that males are more common smokers then females and so higher charges are assocciated with them."
   ]
  },
  {
   "cell_type": "markdown",
   "metadata": {},
   "source": [
    "### c] t - test\n",
    "A t-test is a type of inferential statistic used to determine if there is a significant difference between the means of two groups, which may be related in certain features.\n",
    "Here we are implementing T test for \n",
    "1. Sex and BMI\n",
    "   Null Hypothesis = Mean BMI for Male and Female are equal\n",
    "2.Smoker and Charges\n",
    "    Null Hypothesis = Mean charges for smoker and non somker are smiliar\n"
   ]
  },
  {
   "cell_type": "code",
   "execution_count": 122,
   "metadata": {},
   "outputs": [
    {
     "name": "stdout",
     "output_type": "stream",
     "text": [
      "\n",
      "mean of female bmis: \n",
      " nan\n",
      "\n",
      "mean of male bmis: \n",
      " nan\n"
     ]
    },
    {
     "data": {
      "text/plain": [
       "Ttest_indResult(statistic=nan, pvalue=nan)"
      ]
     },
     "execution_count": 122,
     "metadata": {},
     "output_type": "execute_result"
    }
   ],
   "source": [
    "#t test for sex and BMI\n",
    "from scipy import stats\n",
    "df_ttest = insuranceDF[['bmi','sex']]\n",
    "df_ttest.head()\n",
    "female_bmi = df_ttest[df_ttest['sex'] == 0]['bmi']\n",
    "male_bmi = df_ttest[df_ttest['sex'] == 1]['bmi']\n",
    "#Mean values for Male and Female BMI\n",
    "print(\"\\nmean of female bmis: \\n\",female_bmi.mean())\n",
    "print(\"\\nmean of male bmis: \\n\",male_bmi.mean())\n",
    "#Implementation of t test\n",
    "stats.ttest_ind(female_bmi, male_bmi)\n"
   ]
  },
  {
   "cell_type": "markdown",
   "metadata": {},
   "source": [
    "We find that the mean bmi of female patients (30.377749244713023) is slightly different from the mean bmi of the male patients (30.943128698224832).\n",
    "Our null hypothesis is that both groups are statistically significantly similar. Here, the p-value is greater than 0.05 (pvalue=0.08997637178984932), therefore, we accept the null hypothesis that these two groups are significantly similar. Even though the mean is slightly different, their level of variance is not different. So BMI and Gender are statistically significant."
   ]
  },
  {
   "cell_type": "code",
   "execution_count": 123,
   "metadata": {},
   "outputs": [
    {
     "name": "stdout",
     "output_type": "stream",
     "text": [
      "       charges smoker\n",
      "0  16884.92400    yes\n",
      "1   1725.55230     no\n",
      "2   4449.46200     no\n",
      "3  21984.47061     no\n",
      "4   3866.85520     no\n",
      "\n",
      "mean of charges for smokers: \n",
      " nan\n",
      "\n",
      "mean of charges for no smokers: \n",
      " nan\n"
     ]
    },
    {
     "data": {
      "text/plain": [
       "Ttest_indResult(statistic=nan, pvalue=nan)"
      ]
     },
     "execution_count": 123,
     "metadata": {},
     "output_type": "execute_result"
    }
   ],
   "source": [
    "#t test for smoker non smoker vs charges\n",
    "from scipy import stats\n",
    "df_ttest2 = insuranceDF[['charges','smoker']]\n",
    "print(df_ttest2.head())\n",
    "smoker_charges = df_ttest2[df_ttest2['smoker'] == 1]['charges']\n",
    "nonsmoker_charges = df_ttest2[df_ttest2['smoker'] == 0]['charges']\n",
    "#Mean values for smoker and non smoker charges\n",
    "print(\"\\nmean of charges for smokers: \\n\",smoker_charges.mean())\n",
    "print(\"\\nmean of charges for no smokers: \\n\",nonsmoker_charges.mean())\n",
    "#Implementation of t test\n",
    "stats.ttest_ind(smoker_charges, nonsmoker_charges)\n"
   ]
  },
  {
   "cell_type": "markdown",
   "metadata": {},
   "source": [
    "We find that the mean charges for smokers (32050.23183153285) is different from the mean charges for nonsmokers (30.943128698224832). However, we need to perform an Independent t-Test to find if the difference is statistically significant or not.\n",
    "Our null hypothesis is that both groups are statistically significantly similar. Here, the p-value is smaller than 0.05 (pvalue=8.271435842177219e-283), therefore, we reject the null hypothesis that these two groups are significantly similar. So, there Even though the mean is slightly different, their level of variance is not different."
   ]
  },
  {
   "cell_type": "markdown",
   "metadata": {},
   "source": [
    "### d] Linear Regression\n",
    "Simple linear regression is useful for finding relationship between two continuous variables. One is predictor or independent variable and other is response or dependent variable. It looks for statistical relationship but not deterministic relationship. "
   ]
  },
  {
   "cell_type": "code",
   "execution_count": 124,
   "metadata": {},
   "outputs": [
    {
     "name": "stdout",
     "output_type": "stream",
     "text": [
      "Coefficients: \n",
      "\n",
      " Intercept    1192.937209\n",
      "bmi           393.873031\n",
      "dtype: float64\n",
      "\n",
      " Pvalues: \n",
      "\n",
      " Intercept    4.737685e-01\n",
      "bmi          2.459086e-13\n",
      "dtype: float64\n",
      "\n",
      " R Squared: \n",
      "\n",
      " 0.03933913991786264\n"
     ]
    }
   ],
   "source": [
    "import statsmodels.formula.api as smf\n",
    "lm = smf.ols(formula='charges ~ bmi', data=insuranceDF).fit()\n",
    "\n",
    "print(\"Coefficients: \\n\\n\",lm.params)\n",
    "print(\"\\n Pvalues: \\n\\n\",lm.pvalues)\n",
    "print(\"\\n R Squared: \\n\\n\",lm.rsquared)"
   ]
  },
  {
   "cell_type": "markdown",
   "metadata": {},
   "source": [
    "### Bmi: Increase of Bmi by 1 unit increases annual charges of $393.87"
   ]
  },
  {
   "cell_type": "code",
   "execution_count": 125,
   "metadata": {},
   "outputs": [
    {
     "name": "stdout",
     "output_type": "stream",
     "text": [
      "Coefficients: \n",
      "\n",
      " Intercept         8434.268298\n",
      "smoker[T.yes]    23615.963534\n",
      "dtype: float64\n",
      "\n",
      " Pvalues: \n",
      "\n",
      " Intercept        1.581020e-205\n",
      "smoker[T.yes]    8.271436e-283\n",
      "dtype: float64\n",
      "\n",
      " R Squared: \n",
      "\n",
      " 0.6197648148218988\n"
     ]
    }
   ],
   "source": [
    "#Linear regression for smoker\n",
    "lm = smf.ols(formula='charges ~ smoker', data=insuranceDF).fit()\n",
    "print(\"Coefficients: \\n\\n\",lm.params)\n",
    "print(\"\\n Pvalues: \\n\\n\",lm.pvalues)\n",
    "print(\"\\n R Squared: \\n\\n\",lm.rsquared)\n"
   ]
  },
  {
   "cell_type": "markdown",
   "metadata": {},
   "source": [
    "### Smoker: Being a smoker increases charges by $23,615.96 annually"
   ]
  },
  {
   "cell_type": "markdown",
   "metadata": {},
   "source": [
    "What if certain features have a combined impact on the dependent variable? For instance, smoking and obesity may combined effect may be worse than the sum of each one alone. In other words, these two features have interaction.\n",
    "\n",
    "To implement interaction in the model, the following is done "
   ]
  },
  {
   "cell_type": "code",
   "execution_count": 126,
   "metadata": {},
   "outputs": [
    {
     "name": "stdout",
     "output_type": "stream",
     "text": [
      "Coefficients: \n",
      "\n",
      " Intercept                    7977.029520\n",
      "bmi30[T.1]                    865.662027\n",
      "smoker[T.yes]               13386.187496\n",
      "bmi30[T.1]:smoker[T.yes]    19329.110797\n",
      "dtype: float64\n",
      "\n",
      " Pvalues: \n",
      "\n",
      " Intercept                   1.234844e-153\n",
      "bmi30[T.1]                   1.711788e-02\n",
      "smoker[T.yes]                1.280431e-98\n",
      "bmi30[T.1]:smoker[T.yes]    5.793747e-107\n",
      "dtype: float64\n",
      "\n",
      " R Squared: \n",
      "\n",
      " 0.7627704349331891\n"
     ]
    }
   ],
   "source": [
    "#Linear regression for BMI\n",
    "\n",
    "insuranceDF['bmi30'] = np.where(insuranceDF['bmi'] >= 30, '1','0')\n",
    "lm = smf.ols(formula='charges ~ bmi30*smoker', data=insuranceDF).fit()\n",
    "\n",
    "print(\"Coefficients: \\n\\n\",lm.params)\n",
    "print(\"\\n Pvalues: \\n\\n\",lm.pvalues)\n",
    "print(\"\\n R Squared: \\n\\n\",lm.rsquared)"
   ]
  },
  {
   "cell_type": "markdown",
   "metadata": {},
   "source": [
    "## e] Multiple Regression\n",
    "Multiple regression is to learn more about the relationship between several independent or predictor variables and a dependent or criterion variable."
   ]
  },
  {
   "cell_type": "code",
   "execution_count": 127,
   "metadata": {
    "scrolled": true
   },
   "outputs": [
    {
     "name": "stdout",
     "output_type": "stream",
     "text": [
      "Coefficients: \n",
      "\n",
      " Intercept             -11938.538576\n",
      "sex[T.male]             -131.314359\n",
      "region[T.northwest]     -352.963899\n",
      "region[T.southeast]    -1035.022049\n",
      "region[T.southwest]     -960.050991\n",
      "smoker[T.yes]          23848.534542\n",
      "bmi                      339.193454\n",
      "children                 475.500545\n",
      "age                      256.856353\n",
      "dtype: float64\n",
      "\n",
      " Pvalues: \n",
      "\n",
      " Intercept              5.579044e-32\n",
      "sex[T.male]            6.933475e-01\n",
      "region[T.northwest]    4.587689e-01\n",
      "region[T.southeast]    3.078174e-02\n",
      "region[T.southwest]    4.476493e-02\n",
      "smoker[T.yes]          0.000000e+00\n",
      "bmi                    6.498194e-31\n",
      "children               5.769682e-04\n",
      "age                    7.783217e-89\n",
      "dtype: float64\n",
      "\n",
      " R Squared: \n",
      "\n",
      " 0.7509130345985207\n",
      "                            OLS Regression Results                            \n",
      "==============================================================================\n",
      "Dep. Variable:                charges   R-squared:                       0.751\n",
      "Model:                            OLS   Adj. R-squared:                  0.749\n",
      "Method:                 Least Squares   F-statistic:                     500.8\n",
      "Date:                Sun, 24 Nov 2019   Prob (F-statistic):               0.00\n",
      "Time:                        18:38:01   Log-Likelihood:                -13548.\n",
      "No. Observations:                1338   AIC:                         2.711e+04\n",
      "Df Residuals:                    1329   BIC:                         2.716e+04\n",
      "Df Model:                           8                                         \n",
      "Covariance Type:            nonrobust                                         \n",
      "=======================================================================================\n",
      "                          coef    std err          t      P>|t|      [0.025      0.975]\n",
      "---------------------------------------------------------------------------------------\n",
      "Intercept           -1.194e+04    987.819    -12.086      0.000   -1.39e+04      -1e+04\n",
      "sex[T.male]          -131.3144    332.945     -0.394      0.693    -784.470     521.842\n",
      "region[T.northwest]  -352.9639    476.276     -0.741      0.459   -1287.298     581.370\n",
      "region[T.southeast] -1035.0220    478.692     -2.162      0.031   -1974.097     -95.947\n",
      "region[T.southwest]  -960.0510    477.933     -2.009      0.045   -1897.636     -22.466\n",
      "smoker[T.yes]        2.385e+04    413.153     57.723      0.000     2.3e+04    2.47e+04\n",
      "bmi                   339.1935     28.599     11.860      0.000     283.088     395.298\n",
      "children              475.5005    137.804      3.451      0.001     205.163     745.838\n",
      "age                   256.8564     11.899     21.587      0.000     233.514     280.199\n",
      "==============================================================================\n",
      "Omnibus:                      300.366   Durbin-Watson:                   2.088\n",
      "Prob(Omnibus):                  0.000   Jarque-Bera (JB):              718.887\n",
      "Skew:                           1.211   Prob(JB):                    7.86e-157\n",
      "Kurtosis:                       5.651   Cond. No.                         311.\n",
      "==============================================================================\n",
      "\n",
      "Warnings:\n",
      "[1] Standard Errors assume that the covariance matrix of the errors is correctly specified.\n"
     ]
    }
   ],
   "source": [
    "#Multiple linear regression for all the variables\n",
    "lm = smf.ols(formula='charges ~ bmi + sex + region + smoker +children+age', data=insuranceDF).fit()\n",
    "#lm = smf.ols(formula='charges ~ .', data=insuranceDF).fit()\n",
    "\n",
    "print(\"Coefficients: \\n\\n\",lm.params)\n",
    "print(\"\\n Pvalues: \\n\\n\",lm.pvalues)\n",
    "print(\"\\n R Squared: \\n\\n\",lm.rsquared)\n",
    "\n",
    "print(lm.summary())"
   ]
  },
  {
   "cell_type": "markdown",
   "metadata": {},
   "source": [
    "##  Interpretation from the above model\n",
    "p-value: Small p values suggests likely to have relationship with charges and the coefficient is not zero. Indicates statistically significant. Many of the features are statistically significant, so it’s not a concern\n",
    "\n",
    "Multiple R-squared: This is a measure of how much of variation is explained by the model. In this case, 75% of the variation is explained by the dependent variable."
   ]
  },
  {
   "cell_type": "markdown",
   "metadata": {},
   "source": [
    "## Improvising the model\n",
    "Accounting Non-linear Relationship\n",
    "In linear regression, the relationship between an independent variable and the dependent variable may not necessarily be linear. For example, the effect of age on medical charges may not be constant throughout all the age values. This can be represented in a polynomial:\n",
    "\n",
    "y=α+β1x+β2x2\n",
    "To add non linear (higher order) age to the model, the following is done"
   ]
  },
  {
   "cell_type": "code",
   "execution_count": 128,
   "metadata": {},
   "outputs": [
    {
     "name": "stdout",
     "output_type": "stream",
     "text": [
      "   age     sex     bmi  children smoker     region      charges  bmi_int  \\\n",
      "0   19  female  27.900         0    yes  southwest  16884.92400       27   \n",
      "1   18    male  33.770         1     no  southeast   1725.55230       33   \n",
      "2   28    male  33.000         3     no  southeast   4449.46200       33   \n",
      "3   33    male  22.705         0     no  northwest  21984.47061       22   \n",
      "4   32    male  28.880         0     no  northwest   3866.85520       28   \n",
      "\n",
      "  bmi30  age2  \n",
      "0     0   361  \n",
      "1     1   324  \n",
      "2     1   784  \n",
      "3     0  1089  \n",
      "4     0  1024  \n"
     ]
    }
   ],
   "source": [
    "insuranceDF['age2'] = insuranceDF['age']**2\n",
    "print(insuranceDF.head())"
   ]
  },
  {
   "cell_type": "code",
   "execution_count": 129,
   "metadata": {
    "scrolled": true
   },
   "outputs": [
    {
     "name": "stdout",
     "output_type": "stream",
     "text": [
      "Coefficients: \n",
      "\n",
      " Intercept              -7549.010838\n",
      "sex[T.male]             -136.392924\n",
      "region[T.northwest]     -365.086879\n",
      "region[T.southeast]    -1030.403888\n",
      "region[T.southwest]     -957.649764\n",
      "smoker[T.yes]          23858.682686\n",
      "bmi                      335.566763\n",
      "children                 612.912484\n",
      "age2                       3.253716\n",
      "dtype: float64\n",
      "\n",
      " Pvalues: \n",
      "\n",
      " Intercept              7.854870e-16\n",
      "sex[T.male]            6.804647e-01\n",
      "region[T.northwest]    4.409835e-01\n",
      "region[T.southeast]    3.061215e-02\n",
      "region[T.southwest]    4.413172e-02\n",
      "smoker[T.yes]          0.000000e+00\n",
      "bmi                    1.350427e-30\n",
      "children               8.260844e-06\n",
      "age2                   5.229296e-92\n",
      "dtype: float64\n",
      "\n",
      " R Squared: \n",
      "\n",
      " 0.7536308257792028\n",
      "                            OLS Regression Results                            \n",
      "==============================================================================\n",
      "Dep. Variable:                charges   R-squared:                       0.754\n",
      "Model:                            OLS   Adj. R-squared:                  0.752\n",
      "Method:                 Least Squares   F-statistic:                     508.2\n",
      "Date:                Sun, 24 Nov 2019   Prob (F-statistic):               0.00\n",
      "Time:                        18:38:07   Log-Likelihood:                -13540.\n",
      "No. Observations:                1338   AIC:                         2.710e+04\n",
      "Df Residuals:                    1329   BIC:                         2.715e+04\n",
      "Df Model:                           8                                         \n",
      "Covariance Type:            nonrobust                                         \n",
      "=======================================================================================\n",
      "                          coef    std err          t      P>|t|      [0.025      0.975]\n",
      "---------------------------------------------------------------------------------------\n",
      "Intercept           -7549.0108    925.421     -8.157      0.000   -9364.456   -5733.566\n",
      "sex[T.male]          -136.3929    331.115     -0.412      0.680    -785.959     513.173\n",
      "region[T.northwest]  -365.0869    473.668     -0.771      0.441   -1294.306     564.133\n",
      "region[T.southeast] -1030.4039    476.072     -2.164      0.031   -1964.338     -96.470\n",
      "region[T.southwest]  -957.6498    475.319     -2.015      0.044   -1890.107     -25.193\n",
      "smoker[T.yes]        2.386e+04    410.900     58.064      0.000    2.31e+04    2.47e+04\n",
      "bmi                   335.5668     28.457     11.792      0.000     279.742     391.391\n",
      "children              612.9125    136.937      4.476      0.000     344.277     881.548\n",
      "age2                    3.2537      0.148     22.041      0.000       2.964       3.543\n",
      "==============================================================================\n",
      "Omnibus:                      308.123   Durbin-Watson:                   2.095\n",
      "Prob(Omnibus):                  0.000   Jarque-Bera (JB):              757.479\n",
      "Skew:                           1.230   Prob(JB):                    3.28e-165\n",
      "Kurtosis:                       5.745   Cond. No.                     1.19e+04\n",
      "==============================================================================\n",
      "\n",
      "Warnings:\n",
      "[1] Standard Errors assume that the covariance matrix of the errors is correctly specified.\n",
      "[2] The condition number is large, 1.19e+04. This might indicate that there are\n",
      "strong multicollinearity or other numerical problems.\n"
     ]
    }
   ],
   "source": [
    "#Multiple linear regression for all the variables\n",
    "insuranceDF['age2'] = insuranceDF['age']**2\n",
    "lm = smf.ols(formula='charges ~ bmi + sex + region + smoker +children+age2', data=insuranceDF).fit()\n",
    "#lm = smf.ols(formula='charges ~ .', data=insuranceDF).fit()\n",
    "\n",
    "print(\"Coefficients: \\n\\n\",lm.params)\n",
    "print(\"\\n Pvalues: \\n\\n\",lm.pvalues)\n",
    "print(\"\\n R Squared: \\n\\n\",lm.rsquared)\n",
    "\n",
    "print(lm.summary())"
   ]
  },
  {
   "cell_type": "markdown",
   "metadata": {},
   "source": [
    "Suppose the effect of a feature is not cumulative, rather it has an effect only after a specific threshold has been reached. For instance, BMI may have zero impact on medical expenditures for individuals in the normal weight range, but it may be strongly related to higher costs for the obese (BMI of 30 or above).\n",
    "\n",
    "This relationship can be modeled by binary coding using the following code\n",
    "\n",
    "\n"
   ]
  },
  {
   "cell_type": "code",
   "execution_count": 130,
   "metadata": {},
   "outputs": [
    {
     "name": "stdout",
     "output_type": "stream",
     "text": [
      "Coefficients: \n",
      "\n",
      " Intercept                     134.250895\n",
      "sex[T.male]                  -496.824457\n",
      "region[T.northwest]          -279.203806\n",
      "region[T.southeast]          -828.546726\n",
      "region[T.southwest]         -1222.643652\n",
      "smoker[T.yes]               13404.686598\n",
      "bmi30[T.1]                  -1000.140322\n",
      "bmi30[T.1]:smoker[T.yes]    19810.753339\n",
      "bmi                           120.019552\n",
      "children                      678.561198\n",
      "age                           -32.685149\n",
      "age2                            3.731576\n",
      "dtype: float64\n",
      "\n",
      " Pvalues: \n",
      "\n",
      " Intercept                    9.215386e-01\n",
      "sex[T.male]                  4.223958e-02\n",
      "region[T.northwest]          4.242121e-01\n",
      "region[T.southeast]          1.860442e-02\n",
      "region[T.southwest]          5.025671e-04\n",
      "smoker[T.yes]               5.331521e-155\n",
      "bmi30[T.1]                   1.815914e-02\n",
      "bmi30[T.1]:smoker[T.yes]    5.577129e-173\n",
      "bmi                          4.760908e-04\n",
      "children                     2.036225e-10\n",
      "age                          5.849147e-01\n",
      "age2                         6.496624e-07\n",
      "dtype: float64\n",
      "\n",
      " R Squared: \n",
      "\n",
      " 0.866394439761765\n",
      "                            OLS Regression Results                            \n",
      "==============================================================================\n",
      "Dep. Variable:                charges   R-squared:                       0.866\n",
      "Model:                            OLS   Adj. R-squared:                  0.865\n",
      "Method:                 Least Squares   F-statistic:                     781.7\n",
      "Date:                Sun, 24 Nov 2019   Prob (F-statistic):               0.00\n",
      "Time:                        18:38:14   Log-Likelihood:                -13131.\n",
      "No. Observations:                1338   AIC:                         2.629e+04\n",
      "Df Residuals:                    1326   BIC:                         2.635e+04\n",
      "Df Model:                          11                                         \n",
      "Covariance Type:            nonrobust                                         \n",
      "============================================================================================\n",
      "                               coef    std err          t      P>|t|      [0.025      0.975]\n",
      "--------------------------------------------------------------------------------------------\n",
      "Intercept                  134.2509   1362.751      0.099      0.922   -2539.132    2807.634\n",
      "sex[T.male]               -496.8245    244.366     -2.033      0.042    -976.210     -17.438\n",
      "region[T.northwest]       -279.2038    349.275     -0.799      0.424    -964.395     405.987\n",
      "region[T.southeast]       -828.5467    351.635     -2.356      0.019   -1518.369    -138.725\n",
      "region[T.southwest]      -1222.6437    350.528     -3.488      0.001   -1910.294    -534.993\n",
      "smoker[T.yes]              1.34e+04    439.949     30.469      0.000    1.25e+04    1.43e+04\n",
      "bmi30[T.1]               -1000.1403    422.840     -2.365      0.018   -1829.649    -170.632\n",
      "bmi30[T.1]:smoker[T.yes]  1.981e+04    604.657     32.764      0.000    1.86e+04     2.1e+04\n",
      "bmi                        120.0196     34.266      3.503      0.000      52.798     187.241\n",
      "children                   678.5612    105.883      6.409      0.000     470.844     886.278\n",
      "age                        -32.6851     59.824     -0.546      0.585    -150.045      84.675\n",
      "age2                         3.7316      0.746      5.000      0.000       2.268       5.196\n",
      "==============================================================================\n",
      "Omnibus:                      890.976   Durbin-Watson:                   2.064\n",
      "Prob(Omnibus):                  0.000   Jarque-Bera (JB):             7722.759\n",
      "Skew:                           3.170   Prob(JB):                         0.00\n",
      "Kurtosis:                      12.916   Cond. No.                     2.34e+04\n",
      "==============================================================================\n",
      "\n",
      "Warnings:\n",
      "[1] Standard Errors assume that the covariance matrix of the errors is correctly specified.\n",
      "[2] The condition number is large, 2.34e+04. This might indicate that there are\n",
      "strong multicollinearity or other numerical problems.\n"
     ]
    }
   ],
   "source": [
    "insuranceDF['bmi30'] = np.where(insuranceDF['bmi'] >= 30, '1','0')\n",
    "lm_model = smf.ols(formula='charges ~ bmi + sex + region + smoker +children+age+age2+bmi30*smoker', data=insuranceDF).fit()\n",
    "#lm = smf.ols(formula='charges ~ .', data=insuranceDF).fit()\n",
    "\n",
    "print(\"Coefficients: \\n\\n\",lm_model.params)\n",
    "print(\"\\n Pvalues: \\n\\n\",lm_model.pvalues)\n",
    "print(\"\\n R Squared: \\n\\n\",lm_model.rsquared)\n",
    "\n",
    "print(lm_model.summary())"
   ]
  },
  {
   "cell_type": "code",
   "execution_count": 132,
   "metadata": {},
   "outputs": [
    {
     "data": {
      "text/html": [
       "<div>\n",
       "<style scoped>\n",
       "    .dataframe tbody tr th:only-of-type {\n",
       "        vertical-align: middle;\n",
       "    }\n",
       "\n",
       "    .dataframe tbody tr th {\n",
       "        vertical-align: top;\n",
       "    }\n",
       "\n",
       "    .dataframe thead th {\n",
       "        text-align: right;\n",
       "    }\n",
       "</style>\n",
       "<table border=\"1\" class=\"dataframe\">\n",
       "  <thead>\n",
       "    <tr style=\"text-align: right;\">\n",
       "      <th></th>\n",
       "      <th>age</th>\n",
       "      <th>sex</th>\n",
       "      <th>bmi</th>\n",
       "      <th>children</th>\n",
       "      <th>smoker</th>\n",
       "      <th>region</th>\n",
       "      <th>charges</th>\n",
       "      <th>bmi_int</th>\n",
       "      <th>bmi30</th>\n",
       "      <th>age2</th>\n",
       "    </tr>\n",
       "  </thead>\n",
       "  <tbody>\n",
       "    <tr>\n",
       "      <th>1238</th>\n",
       "      <td>37</td>\n",
       "      <td>male</td>\n",
       "      <td>22.705</td>\n",
       "      <td>3</td>\n",
       "      <td>no</td>\n",
       "      <td>northeast</td>\n",
       "      <td>6985.50695</td>\n",
       "      <td>22</td>\n",
       "      <td>0</td>\n",
       "      <td>1369</td>\n",
       "    </tr>\n",
       "    <tr>\n",
       "      <th>1239</th>\n",
       "      <td>25</td>\n",
       "      <td>female</td>\n",
       "      <td>42.130</td>\n",
       "      <td>1</td>\n",
       "      <td>no</td>\n",
       "      <td>southeast</td>\n",
       "      <td>3238.43570</td>\n",
       "      <td>42</td>\n",
       "      <td>1</td>\n",
       "      <td>625</td>\n",
       "    </tr>\n",
       "    <tr>\n",
       "      <th>1240</th>\n",
       "      <td>52</td>\n",
       "      <td>male</td>\n",
       "      <td>41.800</td>\n",
       "      <td>2</td>\n",
       "      <td>yes</td>\n",
       "      <td>southeast</td>\n",
       "      <td>47269.85400</td>\n",
       "      <td>41</td>\n",
       "      <td>1</td>\n",
       "      <td>2704</td>\n",
       "    </tr>\n",
       "    <tr>\n",
       "      <th>1241</th>\n",
       "      <td>64</td>\n",
       "      <td>male</td>\n",
       "      <td>36.960</td>\n",
       "      <td>2</td>\n",
       "      <td>yes</td>\n",
       "      <td>southeast</td>\n",
       "      <td>49577.66240</td>\n",
       "      <td>36</td>\n",
       "      <td>1</td>\n",
       "      <td>4096</td>\n",
       "    </tr>\n",
       "    <tr>\n",
       "      <th>1242</th>\n",
       "      <td>22</td>\n",
       "      <td>female</td>\n",
       "      <td>21.280</td>\n",
       "      <td>3</td>\n",
       "      <td>no</td>\n",
       "      <td>northwest</td>\n",
       "      <td>4296.27120</td>\n",
       "      <td>21</td>\n",
       "      <td>0</td>\n",
       "      <td>484</td>\n",
       "    </tr>\n",
       "  </tbody>\n",
       "</table>\n",
       "</div>"
      ],
      "text/plain": [
       "      age     sex     bmi  children smoker     region      charges  bmi_int  \\\n",
       "1238   37    male  22.705         3     no  northeast   6985.50695       22   \n",
       "1239   25  female  42.130         1     no  southeast   3238.43570       42   \n",
       "1240   52    male  41.800         2    yes  southeast  47269.85400       41   \n",
       "1241   64    male  36.960         2    yes  southeast  49577.66240       36   \n",
       "1242   22  female  21.280         3     no  northwest   4296.27120       21   \n",
       "\n",
       "     bmi30  age2  \n",
       "1238     0  1369  \n",
       "1239     1   625  \n",
       "1240     1  2704  \n",
       "1241     1  4096  \n",
       "1242     0   484  "
      ]
     },
     "execution_count": 132,
     "metadata": {},
     "output_type": "execute_result"
    }
   ],
   "source": [
    "\n",
    "dfTrain = insuranceDF[:1238]\n",
    "dfTest = insuranceDF[1238:1338]\n",
    "dfTrain.head()\n",
    "dfTest.head()\n"
   ]
  },
  {
   "cell_type": "code",
   "execution_count": 133,
   "metadata": {},
   "outputs": [
    {
     "name": "stdout",
     "output_type": "stream",
     "text": [
      "Coefficients: \n",
      "\n",
      " Intercept                     462.045550\n",
      "sex[T.male]                  -582.246895\n",
      "region[T.northwest]          -208.704140\n",
      "region[T.southeast]          -787.874287\n",
      "region[T.southwest]         -1218.502371\n",
      "smoker[T.yes]               13296.685973\n",
      "bmi30[T.1]                  -1015.140736\n",
      "bmi30[T.1]:smoker[T.yes]    19814.712388\n",
      "bmi                           120.561888\n",
      "children                      654.862214\n",
      "age                           -46.795016\n",
      "age2                            3.891544\n",
      "dtype: float64\n",
      "\n",
      " Pvalues: \n",
      "\n",
      " Intercept                    7.471007e-01\n",
      "sex[T.male]                  2.261013e-02\n",
      "region[T.northwest]          5.664843e-01\n",
      "region[T.southeast]          3.171482e-02\n",
      "region[T.southwest]          9.274128e-04\n",
      "smoker[T.yes]               3.464313e-137\n",
      "bmi30[T.1]                   2.145462e-02\n",
      "bmi30[T.1]:smoker[T.yes]    8.678280e-157\n",
      "bmi                          8.235600e-04\n",
      "children                     5.078726e-09\n",
      "age                          4.552416e-01\n",
      "age2                         7.034893e-07\n",
      "dtype: float64\n",
      "\n",
      " R Squared: \n",
      "\n",
      " 0.8628754397460456\n",
      "                            OLS Regression Results                            \n",
      "==============================================================================\n",
      "Dep. Variable:                charges   R-squared:                       0.863\n",
      "Model:                            OLS   Adj. R-squared:                  0.862\n",
      "Method:                 Least Squares   F-statistic:                     701.3\n",
      "Date:                Sun, 24 Nov 2019   Prob (F-statistic):               0.00\n",
      "Time:                        18:38:20   Log-Likelihood:                -12155.\n",
      "No. Observations:                1238   AIC:                         2.433e+04\n",
      "Df Residuals:                    1226   BIC:                         2.440e+04\n",
      "Df Model:                          11                                         \n",
      "Covariance Type:            nonrobust                                         \n",
      "============================================================================================\n",
      "                               coef    std err          t      P>|t|      [0.025      0.975]\n",
      "--------------------------------------------------------------------------------------------\n",
      "Intercept                  462.0456   1432.534      0.323      0.747   -2348.444    3272.535\n",
      "sex[T.male]               -582.2469    255.053     -2.283      0.023   -1082.636     -81.858\n",
      "region[T.northwest]       -208.7041    363.981     -0.573      0.566    -922.800     505.391\n",
      "region[T.southeast]       -787.8743    366.377     -2.150      0.032   -1506.669     -69.079\n",
      "region[T.southwest]      -1218.5024    367.044     -3.320      0.001   -1938.607    -498.398\n",
      "smoker[T.yes]              1.33e+04    467.239     28.458      0.000    1.24e+04    1.42e+04\n",
      "bmi30[T.1]               -1015.1407    440.821     -2.303      0.021   -1879.988    -150.293\n",
      "bmi30[T.1]:smoker[T.yes]  1.981e+04    637.783     31.068      0.000    1.86e+04    2.11e+04\n",
      "bmi                        120.5619     35.956      3.353      0.001      50.021     191.103\n",
      "children                   654.8622    111.244      5.887      0.000     436.613     873.111\n",
      "age                        -46.7950     62.649     -0.747      0.455    -169.706      76.116\n",
      "age2                         3.8915      0.780      4.986      0.000       2.360       5.423\n",
      "==============================================================================\n",
      "Omnibus:                      817.835   Durbin-Watson:                   2.052\n",
      "Prob(Omnibus):                  0.000   Jarque-Bera (JB):             6879.853\n",
      "Skew:                           3.139   Prob(JB):                         0.00\n",
      "Kurtosis:                      12.693   Cond. No.                     2.38e+04\n",
      "==============================================================================\n",
      "\n",
      "Warnings:\n",
      "[1] Standard Errors assume that the covariance matrix of the errors is correctly specified.\n",
      "[2] The condition number is large, 2.38e+04. This might indicate that there are\n",
      "strong multicollinearity or other numerical problems.\n"
     ]
    }
   ],
   "source": [
    "\n",
    "lm_model = smf.ols(formula='charges ~ bmi + sex + region + smoker +children+age+age2+bmi30*smoker', data=dfTrain).fit()\n",
    "#lm = smf.ols(formula='charges ~ .', data=insuranceDF).fit()\n",
    "\n",
    "print(\"Coefficients: \\n\\n\",lm_model.params)\n",
    "print(\"\\n Pvalues: \\n\\n\",lm_model.pvalues)\n",
    "print(\"\\n R Squared: \\n\\n\",lm_model.rsquared)\n",
    "\n",
    "print(lm_model.summary())"
   ]
  },
  {
   "cell_type": "code",
   "execution_count": 139,
   "metadata": {},
   "outputs": [
    {
     "name": "stdout",
     "output_type": "stream",
     "text": [
      "1238     8177.851674\n",
      "1239     5655.504936\n",
      "1240    45626.788604\n",
      "1241    49898.758703\n",
      "1242     5637.502170\n",
      "1243     4391.545008\n",
      "1244     2513.661456\n",
      "1245     6605.971603\n",
      "1246    10081.172062\n",
      "1247     7518.920984\n",
      "1248     3878.355004\n",
      "1249    39172.915753\n",
      "1250    17891.294942\n",
      "1251     1564.163893\n",
      "1252    15870.039242\n",
      "1253     9750.125775\n",
      "1254     5923.741595\n",
      "1255     7696.991672\n",
      "1256    13324.792817\n",
      "1257    13061.949668\n",
      "1258    14365.728002\n",
      "1259    11346.065380\n",
      "1260     5423.476458\n",
      "1261     4514.574176\n",
      "1262     8333.884938\n",
      "1263     8686.485778\n",
      "1264    11827.407753\n",
      "1265    28198.045703\n",
      "1266    11103.736003\n",
      "1267    36839.760526\n",
      "            ...     \n",
      "1308    36243.109678\n",
      "1309     7461.063273\n",
      "1310     8397.836485\n",
      "1311     6165.397347\n",
      "1312     6380.717552\n",
      "1313    37348.764971\n",
      "1314    20465.044976\n",
      "1315     4366.318016\n",
      "1316     2242.860299\n",
      "1317     4900.786836\n",
      "1318     9400.935692\n",
      "1319     8829.685349\n",
      "1320     6654.924155\n",
      "1321    28452.689970\n",
      "1322    14816.007483\n",
      "1323    42846.530407\n",
      "1324     5741.857977\n",
      "1325    14533.641627\n",
      "1326     8309.067746\n",
      "1327    10087.480549\n",
      "1328     5674.723339\n",
      "1329    11698.964118\n",
      "1330    14063.470581\n",
      "1331     3237.511126\n",
      "1332    13671.500743\n",
      "1333    11743.452329\n",
      "1334     3713.790377\n",
      "1335     3520.286197\n",
      "1336     3087.515637\n",
      "1337    28680.702261\n",
      "Length: 100, dtype: float64\n",
      "[ 6985.50695  3238.4357  47269.854   49577.6624   4296.2712   3171.6149\n",
      "  1135.9407   5615.369    9101.798    6059.173    1633.9618  37607.5277\n",
      " 18648.4217   1241.565   16232.847   15828.82173  4415.1588   6474.013\n",
      " 11436.73815 11305.93455 30063.58055 10197.7722   4544.2348   3277.161\n",
      "  6770.1925   7337.748   10370.91255 26926.5144  10704.47    34254.05335\n",
      "  1880.487    8615.3      3292.52985  3021.80915 14478.33015  4747.0529\n",
      " 17043.3414  10959.33     2741.948    4357.04365 22462.04375  4189.1131\n",
      "  8283.6807  24535.69855 14283.4594   1720.3537  47403.88     8534.6718\n",
      "  3732.6251   5472.449   38344.566    7147.4728   7133.9025  34828.654\n",
      "  1515.3449   9301.89355 11931.12525  1964.78     1708.92575  4340.4409\n",
      "  5261.46945  2710.82855 62592.87309 46718.16325  3208.787   37829.7242\n",
      " 21259.37795  2464.6188  16115.3045  21472.4788  33900.653    6875.961\n",
      "  6940.90985  4571.41305  4536.259   36397.576   18765.87545 11272.33139\n",
      "  1731.677    1163.4627  19496.71917  7201.70085  5425.02335 28101.33305\n",
      " 12981.3457  43896.3763   4239.89265 13143.33665  7050.0213   9377.9047\n",
      " 22395.74424 10325.206   12629.1656  10795.93733 11411.685   10600.5483\n",
      "  2205.9808   1629.8335   2007.945   29141.3603 ]\n"
     ]
    }
   ],
   "source": [
    "lm_pred = lm_model.predict(dfTest)\n",
    "\n",
    "print(lm_pred)\n",
    "\n",
    "print(testLabel)\n",
    "\n"
   ]
  },
  {
   "cell_type": "code",
   "execution_count": 142,
   "metadata": {},
   "outputs": [
    {
     "name": "stdout",
     "output_type": "stream",
     "text": [
      "           Actual     Predicted\n",
      "1238   6985.50695   8177.851674\n",
      "1239   3238.43570   5655.504936\n",
      "1240  47269.85400  45626.788604\n",
      "1241  49577.66240  49898.758703\n",
      "1242   4296.27120   5637.502170\n",
      "1243   3171.61490   4391.545008\n",
      "1244   1135.94070   2513.661456\n",
      "1245   5615.36900   6605.971603\n",
      "1246   9101.79800  10081.172062\n",
      "1247   6059.17300   7518.920984\n",
      "1248   1633.96180   3878.355004\n",
      "1249  37607.52770  39172.915753\n",
      "1250  18648.42170  17891.294942\n",
      "1251   1241.56500   1564.163893\n",
      "1252  16232.84700  15870.039242\n",
      "1253  15828.82173   9750.125775\n",
      "1254   4415.15880   5923.741595\n",
      "1255   6474.01300   7696.991672\n",
      "1256  11436.73815  13324.792817\n",
      "1257  11305.93455  13061.949668\n",
      "1258  30063.58055  14365.728002\n",
      "1259  10197.77220  11346.065380\n",
      "1260   4544.23480   5423.476458\n",
      "1261   3277.16100   4514.574176\n",
      "1262   6770.19250   8333.884938\n",
      "1263   7337.74800   8686.485778\n",
      "1264  10370.91255  11827.407753\n",
      "1265  26926.51440  28198.045703\n",
      "1266  10704.47000  11103.736003\n",
      "1267  34254.05335  36839.760526\n",
      "...           ...           ...\n",
      "1308  33900.65300  36243.109678\n",
      "1309   6875.96100   7461.063273\n",
      "1310   6940.90985   8397.836485\n",
      "1311   4571.41305   6165.397347\n",
      "1312   4536.25900   6380.717552\n",
      "1313  36397.57600  37348.764971\n",
      "1314  18765.87545  20465.044976\n",
      "1315  11272.33139   4366.318016\n",
      "1316   1731.67700   2242.860299\n",
      "1317   1163.46270   4900.786836\n",
      "1318  19496.71917   9400.935692\n",
      "1319   7201.70085   8829.685349\n",
      "1320   5425.02335   6654.924155\n",
      "1321  28101.33305  28452.689970\n",
      "1322  12981.34570  14816.007483\n",
      "1323  43896.37630  42846.530407\n",
      "1324   4239.89265   5741.857977\n",
      "1325  13143.33665  14533.641627\n",
      "1326   7050.02130   8309.067746\n",
      "1327   9377.90470  10087.480549\n",
      "1328  22395.74424   5674.723339\n",
      "1329  10325.20600  11698.964118\n",
      "1330  12629.16560  14063.470581\n",
      "1331  10795.93733   3237.511126\n",
      "1332  11411.68500  13671.500743\n",
      "1333  10600.54830  11743.452329\n",
      "1334   2205.98080   3713.790377\n",
      "1335   1629.83350   3520.286197\n",
      "1336   2007.94500   3087.515637\n",
      "1337  29141.36030  28680.702261\n",
      "\n",
      "[100 rows x 2 columns]\n"
     ]
    }
   ],
   "source": [
    "df = pd.DataFrame({'Actual': testLabel, 'Predicted': lm_pred})\n",
    "print(df)"
   ]
  },
  {
   "cell_type": "code",
   "execution_count": 147,
   "metadata": {},
   "outputs": [
    {
     "data": {
      "image/png": "[encoded data removed]",
      "text/plain": [
       "<Figure size 1152x720 with 1 Axes>"
      ]
     },
     "metadata": {
      "needs_background": "light"
     },
     "output_type": "display_data"
    }
   ],
   "source": [
    "df1 = df.head(50)\n",
    "df1.plot(kind='bar',figsize=(16,10))\n",
    "plt.grid(which='major', linestyle='-', linewidth='0.5', color='green')\n",
    "plt.grid(which='minor', linestyle=':', linewidth='0.5', color='black')\n",
    "plt.show()"
   ]
  },
  {
   "cell_type": "markdown",
   "metadata": {},
   "source": [
    "## Prediction of the Target variable using improved multiple regression model."
   ]
  },
  {
   "cell_type": "code",
   "execution_count": 131,
   "metadata": {},
   "outputs": [
    {
     "name": "stdout",
     "output_type": "stream",
     "text": [
      "   age     sex  bmi  children smoker     region  age2 bmi30\n",
      "0   50  female   33         2    yes  northwest  2500     1\n",
      "0    45082.795676\n",
      "dtype: float64\n"
     ]
    }
   ],
   "source": [
    "data = {'age': [50], 'sex': ['female'], 'bmi': [33], 'children': [2], 'smoker': ['yes'], 'region': ['northwest'], 'age2': [2500], 'bmi30' : ['1']}\n",
    "test = pd.DataFrame(data)\n",
    "print(test)\n",
    "\n",
    "lm_pred = lm_model.predict(test)\n",
    "\n",
    "print(lm_pred)"
   ]
  },
  {
   "cell_type": "markdown",
   "metadata": {},
   "source": [
    "## Citations:\n",
    "https://www.datavedas.com/inferential-statistics-in-python/\n",
    "\n",
    "https://machinelearningmastery.com/chi-squared-test-for-machine-learning/\n",
    "\n",
    "https://www.investopedia.com/terms/t/t-test.asp\n",
    "\n",
    "https://towardsdatascience.com/linear-regression-detailed-view-ea73175f6e86\n"
   ]
  }
 ],
 "metadata": {
  "kernelspec": {
   "display_name": "Python 3",
   "language": "python",
   "name": "python3"
  },
  "language_info": {
   "codemirror_mode": {
    "name": "ipython",
    "version": 3
   },
   "file_extension": ".py",
   "mimetype": "text/x-python",
   "name": "python",
   "nbconvert_exporter": "python",
   "pygments_lexer": "ipython3",
   "version": "3.7.3"
  }
 },
 "nbformat": 4,
 "nbformat_minor": 2
}
